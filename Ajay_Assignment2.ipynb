{
 "cells": [
  {
   "cell_type": "code",
   "execution_count": 3,
   "metadata": {},
   "outputs": [
    {
     "name": "stdout",
     "output_type": "stream",
     "text": [
      "   2000\n",
      "   2008\n",
      "   2016\n",
      "   2024\n",
      "   2032\n",
      "   2040\n",
      "   2048\n",
      "   2056\n",
      "   2064\n",
      "   2072\n",
      "   2080\n",
      "   2088\n",
      "   2096\n",
      "   2104\n",
      "   2112\n",
      "   2120\n",
      "   2128\n",
      "   2136\n",
      "   2144\n",
      "   2152\n",
      "   2160\n",
      "   2168\n",
      "   2176\n",
      "   2184\n",
      "   2192\n",
      "   2200\n",
      "   2208\n",
      "   2216\n",
      "   2224\n",
      "   2232\n",
      "   2240\n",
      "   2248\n",
      "   2256\n",
      "   2264\n",
      "   2272\n",
      "   2280\n",
      "   2288\n",
      "   2296\n",
      "   2304\n",
      "   2312\n",
      "   2320\n",
      "   2328\n",
      "   2336\n",
      "   2344\n",
      "   2352\n",
      "   2360\n",
      "   2368\n",
      "   2376\n",
      "   2384\n",
      "   2392\n",
      "   2400\n",
      "   2408\n",
      "   2416\n",
      "   2424\n",
      "   2432\n",
      "   2440\n",
      "   2448\n",
      "   2456\n",
      "   2464\n",
      "   2472\n",
      "   2480\n",
      "   2488\n",
      "   2496\n"
     ]
    }
   ],
   "source": [
    "# Question number - One.\n",
    "\n",
    "for i in range(2000,2500):\n",
    "\n",
    "    if i%8==0 and i%4==0:\n",
    "\n",
    "        print(\"  \",i)\n"
   ]
  },
  {
   "cell_type": "code",
   "execution_count": 9,
   "metadata": {},
   "outputs": [
    {
     "name": "stdout",
     "output_type": "stream",
     "text": [
      "Letters: 12\n",
      "Digits: 3\n"
     ]
    }
   ],
   "source": [
    "# Question Number - 2.\n",
    "\n",
    "str = \"Ajaykumar011jha\"\n",
    "digit=letter=0\n",
    "for ch in str:\n",
    "   if ch.isdigit():\n",
    "      digit=digit+1\n",
    "   elif ch.isalpha():\n",
    "      letter=letter+1\n",
    "   else:\n",
    "      pass\n",
    "print(\"Letters:\", letter)\n",
    "print(\"Digits:\", digit)\n"
   ]
  },
  {
   "cell_type": "code",
   "execution_count": 16,
   "metadata": {},
   "outputs": [
    {
     "name": "stdout",
     "output_type": "stream",
     "text": [
      "Input a letter of the alphabet: a\n",
      "a is a vowel.\n"
     ]
    }
   ],
   "source": [
    "# Question number - 3.\n",
    "\n",
    "l = input(\"Input a letter of the alphabet: \")\n",
    "\n",
    "if l in ('a', 'e', 'i', 'o', 'u'):\n",
    "    print(\"%s is a vowel.\" % l)\n",
    "else:\n",
    "    print(\"%s is a consonant.\" % l) \n"
   ]
  },
  {
   "cell_type": "code",
   "execution_count": 20,
   "metadata": {},
   "outputs": [
    {
     "name": "stdout",
     "output_type": "stream",
     "text": [
      "Input lengths of the triangle sides: \n",
      "a: 23\n",
      "b: 23\n",
      "c: 23\n",
      "Equilateral triangle\n"
     ]
    }
   ],
   "source": [
    "#question Number - 4.\n",
    "\n",
    "print(\"Input lengths of the triangle sides: \")\n",
    "a = int(input(\"a: \"))\n",
    "b = int(input(\"b: \"))\n",
    "c = int(input(\"c: \"))\n",
    "\n",
    "if a == b == c:\n",
    "    print(\"Equilateral triangle\")\n",
    "elif a==b or b==c or c==a:\n",
    "    print(\"isosceles triangle\")\n",
    "else:\n",
    "    print(\"Scalene triangle\")\n"
   ]
  },
  {
   "cell_type": "code",
   "execution_count": 24,
   "metadata": {},
   "outputs": [
    {
     "name": "stdout",
     "output_type": "stream",
     "text": [
      "Input the first number1\n",
      "Input the second number2\n",
      "Input the third number3\n",
      "Median of the above three numbers -\n",
      "2\n"
     ]
    }
   ],
   "source": [
    "# Question number - 5.\n",
    "\n",
    "a = input(\"Input the first number\")\n",
    "b = input(\"Input the second number\")\n",
    "c = input(\"Input the third number\")\n",
    "print(\"Median of the above three numbers -\")\n",
    "\n",
    "if b < a and a < c:\n",
    "    print(a)\n",
    "elif c < a and a < b:\n",
    "    print(a)\n",
    "    \n",
    "elif c < b and b < a:\n",
    "    print(b)\n",
    "elif a < b and b < c:\n",
    "    print(b)\n",
    "    \n",
    "elif b < c and c < a:\n",
    "    print(c)    \n",
    "elif a < c and c < b:\n",
    "    print(c)\n",
    "\n",
    "    "
   ]
  },
  {
   "cell_type": "code",
   "execution_count": 22,
   "metadata": {},
   "outputs": [
    {
     "name": "stdout",
     "output_type": "stream",
     "text": [
      "Enter age:11\n",
      "Not Eligible for voting\n"
     ]
    }
   ],
   "source": [
    "# Question number - 6.\n",
    "\n",
    "age = int(input(\"Enter age:\"))\n",
    "if age >= 18:\n",
    "    print(\"Eligible for voting\")\n",
    "else:\n",
    "    print(\"Not Eligible for voting\")\n",
    "\n"
   ]
  },
  {
   "cell_type": "code",
   "execution_count": 27,
   "metadata": {},
   "outputs": [
    {
     "name": "stdout",
     "output_type": "stream",
     "text": [
      "Enter a number: 35\n",
      "Number is Odd\n"
     ]
    }
   ],
   "source": [
    "#Question number - 7.\n",
    "\n",
    "num = int(input(\"Enter a number: \"))\n",
    "if (num % 2) == 0:\n",
    "   print(\"Number is Even\")\n",
    "else:\n",
    "   print(\"Number is Odd\")\n"
   ]
  },
  {
   "cell_type": "code",
   "execution_count": 31,
   "metadata": {},
   "outputs": [
    {
     "name": "stdout",
     "output_type": "stream",
     "text": [
      "Enter your age: 5\n",
      "Hello\n"
     ]
    }
   ],
   "source": [
    "# Question number - 8.\n",
    "\n",
    "num = int(input(\"Enter your age: \"))\n",
    "\n",
    "if num % 5 == 0:\n",
    "\n",
    " print(\"Hello\")\n",
    "\n",
    "else:\n",
    "\n",
    " print(\"Bye\")\n",
    "\n"
   ]
  },
  {
   "cell_type": "code",
   "execution_count": 48,
   "metadata": {},
   "outputs": [
    {
     "name": "stdout",
     "output_type": "stream",
     "text": [
      "Enter the electricity unit :203\n",
      "2030\n"
     ]
    }
   ],
   "source": [
    "#Question no - 9.\n",
    "\n",
    "units = int(input(\"Enter the electricity unit :\"))\n",
    "\n",
    "if units <= 100:\n",
    "    amount = 0\n",
    "elif units > 100 and units <= 200:\n",
    "    amount = 5\n",
    "elif units > 200:  \n",
    "    amount = 10\n",
    "    \n",
    "Totalbill = units * amount\n",
    "print(Totalbill)\n",
    "\n"
   ]
  },
  {
   "cell_type": "code",
   "execution_count": 41,
   "metadata": {},
   "outputs": [
    {
     "name": "stdout",
     "output_type": "stream",
     "text": [
      "Enter the cost price of bike :60000\n",
      "6000.0\n"
     ]
    }
   ],
   "source": [
    "# question Number 10.\n",
    "\n",
    "cp = float(input(\"Enter the cost price of bike :\"))\n",
    "if cp > 100000:\n",
    "    tax = 0.15\n",
    "elif cp > 50000 and cp < 100000:\n",
    "    tax = 0.10\n",
    "elif cp < 50000:\n",
    "    tax = 0.05\n",
    "roadtax = cp * tax\n",
    "print(roadtax)\n",
    "\n",
    "\n",
    "\n"
   ]
  },
  {
   "cell_type": "code",
   "execution_count": 7,
   "metadata": {},
   "outputs": [
    {
     "name": "stdout",
     "output_type": "stream",
     "text": [
      "Enter year to be checked:2001\n",
      "The year isn't a leap year\n"
     ]
    }
   ],
   "source": [
    "# question Number 11.\n",
    "\n",
    "year=int(input(\"Enter year to be checked:\"))\n",
    "if(year%4==0 and year%100!=0 or year%400==0):\n",
    "    print(\"The year is a leap year\")\n",
    "else:\n",
    "    print(\"The year isn't a leap year\")\n",
    "\n"
   ]
  },
  {
   "cell_type": "code",
   "execution_count": 3,
   "metadata": {},
   "outputs": [
    {
     "name": "stdout",
     "output_type": "stream",
     "text": [
      "Enter a city :jaipur\n",
      "Jal Mahal\n"
     ]
    }
   ],
   "source": [
    "# question Number 12.\n",
    "\n",
    "\n",
    "city = input(\"Enter a city :\")\n",
    "\n",
    "if city.upper() == \"DELHI\":\n",
    "\n",
    "   print(\"Red Fort\")\n",
    "\n",
    "elif city.upper() == \"AGRA\":\n",
    "\n",
    "   print(\"Taj Mahal\")\n",
    "\n",
    "elif city.upper() == \"JAIPUR\":\n",
    "\n",
    "   print(\"Jal Mahal\")\n",
    "\n",
    "else:\n",
    "\n",
    "   print(\"Enter a wrong city\")\n",
    "\n"
   ]
  },
  {
   "cell_type": "code",
   "execution_count": 12,
   "metadata": {},
   "outputs": [
    {
     "name": "stdout",
     "output_type": "stream",
     "text": [
      "Input a number: 12\n",
      "12 x 1 = 12\n",
      "12 x 2 = 24\n",
      "12 x 3 = 36\n",
      "12 x 4 = 48\n",
      "12 x 5 = 60\n",
      "12 x 6 = 72\n",
      "12 x 7 = 84\n",
      "12 x 8 = 96\n",
      "12 x 9 = 108\n",
      "12 x 10 = 120\n"
     ]
    }
   ],
   "source": [
    "# question Number 13.\n",
    "\n",
    "n = int(input(\"Input a number: \"))\n",
    "\n",
    "for i in range(1,11):\n",
    "   print(n,'x',i,'=',n*i)\n",
    "\n"
   ]
  },
  {
   "cell_type": "code",
   "execution_count": 9,
   "metadata": {},
   "outputs": [
    {
     "name": "stdout",
     "output_type": "stream",
     "text": [
      "0 1 2 4 5 \n",
      "\n"
     ]
    }
   ],
   "source": [
    "# question Number 14.\n",
    "\n",
    "for x in range(6):\n",
    "    if (x == 3 or x== 6):\n",
    "        continue\n",
    "    print(x,end=' ')\n",
    "print(\"\\n\")\n"
   ]
  },
  {
   "cell_type": "code",
   "execution_count": 23,
   "metadata": {},
   "outputs": [
    {
     "name": "stdout",
     "output_type": "stream",
     "text": [
      "Enter any number: 3\n",
      "3 is a prime number\n"
     ]
    }
   ],
   "source": [
    "# question Number 15.\n",
    "\n",
    "number = int(input(\"Enter any number: \"))\n",
    "\n",
    "if number > 1:\n",
    "    for i in range(2, number):\n",
    "        if (number % i) == 0:\n",
    "            print(number, \"is not a prime number\")\n",
    "            break\n",
    "    else:\n",
    "        print(number, \"is a prime number\")\n",
    "\n"
   ]
  },
  {
   "cell_type": "code",
   "execution_count": 25,
   "metadata": {},
   "outputs": [
    {
     "name": "stdout",
     "output_type": "stream",
     "text": [
      "Enter a number:123\n",
      "Not a palindrome!\n"
     ]
    }
   ],
   "source": [
    "# question Number 16.\n",
    "\n",
    "\n",
    "num=int(input(\"Enter a number:\"))\n",
    "temp=num\n",
    "rev=0\n",
    "while(num>0):\n",
    "    dig=num%10\n",
    "    rev=rev*10+dig\n",
    "    num=num//10\n",
    "if(temp==rev):\n",
    "    print(\"The number is palindrome!\")\n",
    "else:\n",
    "    print(\"Not a palindrome!\")"
   ]
  },
  {
   "cell_type": "code",
   "execution_count": 26,
   "metadata": {},
   "outputs": [
    {
     "name": "stdout",
     "output_type": "stream",
     "text": [
      "The normal string is : Ajaykumar\n",
      "The reversed string(using loops) is : ramukyajA\n"
     ]
    }
   ],
   "source": [
    "# question Number 17.\n",
    "\n",
    "def reverse(s):\n",
    "    str = \"\"\n",
    "    for i in s:\n",
    "        str = i + str\n",
    "    return str\n",
    " \n",
    "s = \"Ajaykumar\"\n",
    " \n",
    "print(\"The normal string is : \", end=\"\")\n",
    "print(s)\n",
    " \n",
    "print(\"The reversed string(using loops) is : \", end=\"\")\n",
    "print(reverse(s))\n"
   ]
  },
  {
   "cell_type": "code",
   "execution_count": 31,
   "metadata": {},
   "outputs": [
    {
     "name": "stdout",
     "output_type": "stream",
     "text": [
      "Enter the string:- The Quick Brown FoX\n",
      "LowerCase letter in the String 11\n",
      "UpperCase letter in the String 5\n"
     ]
    }
   ],
   "source": [
    "# question Number 18.\n",
    "\n",
    "\n",
    "x=input(\"Enter the string:- \")\n",
    "def char(x):\n",
    "  y=0\n",
    "  z=0\n",
    "  for i in x:\n",
    "      if i>='a' and i<='z':\n",
    "       z+=1\n",
    "\n",
    "      if i >='A' and i<='Z':\n",
    "       y+=1\n",
    "\n",
    "  print(\"LowerCase letter in the String\",z)\n",
    "  print(\"UpperCase letter in the String\",y)\n",
    "char(x)\n"
   ]
  },
  {
   "cell_type": "code",
   "execution_count": 35,
   "metadata": {},
   "outputs": [
    {
     "ename": "SyntaxError",
     "evalue": "invalid syntax (<ipython-input-35-f2f4caa8737f>, line 5)",
     "output_type": "error",
     "traceback": [
      "\u001b[1;36m  File \u001b[1;32m\"<ipython-input-35-f2f4caa8737f>\"\u001b[1;36m, line \u001b[1;32m5\u001b[0m\n\u001b[1;33m    lower = shutdown.lower() def shut_down(\"shutdown\") :\u001b[0m\n\u001b[1;37m                             ^\u001b[0m\n\u001b[1;31mSyntaxError\u001b[0m\u001b[1;31m:\u001b[0m invalid syntax\n"
     ]
    }
   ],
   "source": [
    "# question Number 19.\n",
    "\n",
    "shutdown = input(\"would you like to shutdown?:\" )\n",
    "\n",
    "lower = shutdown.lower() def shut_down(\"shutdown\") :\n",
    "\n",
    "if lower == (yes) :\n",
    "    return 'shutting down'\n",
    "elif lower == (no) :\n",
    "    return ' shut down aborted'\n",
    "else:\n",
    "    return 'sorry i didn\\'t understand you'\n",
    " "
   ]
  },
  {
   "cell_type": "code",
   "execution_count": 39,
   "metadata": {},
   "outputs": [
    {
     "name": "stdout",
     "output_type": "stream",
     "text": [
      " 6 is in the range\n"
     ]
    }
   ],
   "source": [
    "# question Number 21.\n",
    "\n",
    "def test_range(n):\n",
    "    if n in range(3,9):\n",
    "        print( \" %s is in the range\"%str(n))\n",
    "    else :\n",
    "        print(\"The number is outside the given range.\")\n",
    "test_range(6)"
   ]
  },
  {
   "cell_type": "code",
   "execution_count": 4,
   "metadata": {},
   "outputs": [
    {
     "name": "stdout",
     "output_type": "stream",
     "text": [
      "Enter the factiorial number : 6\n",
      "720\n"
     ]
    }
   ],
   "source": [
    "# question Number 22.\n",
    "\n",
    "def factorial(n):\n",
    "    if n == 0:\n",
    "        return 1\n",
    "    else:\n",
    "        return n * factorial(n-1)\n",
    "n=int(input(\"Enter the factiorial number : \"))\n",
    "print(factorial(n))\n"
   ]
  },
  {
   "cell_type": "code",
   "execution_count": 6,
   "metadata": {},
   "outputs": [
    {
     "name": "stdout",
     "output_type": "stream",
     "text": [
      "Enter a number:2345\n",
      "The total sum of digits is: 14\n"
     ]
    }
   ],
   "source": [
    "# question Number 23.\n",
    "\n",
    "n=int(input(\"Enter a number:\"))\n",
    "total=0\n",
    "while(n>0):\n",
    "    digit=n%10\n",
    "    total=total+digit\n",
    "    n=n//10\n",
    "print(\"The total sum of digits is:\",total)\n"
   ]
  },
  {
   "cell_type": "code",
   "execution_count": 8,
   "metadata": {},
   "outputs": [
    {
     "name": "stdout",
     "output_type": "stream",
     "text": [
      "Enter the first number:24\n",
      "Enter the second number:26\n",
      "LCM is: 312\n"
     ]
    }
   ],
   "source": [
    "# question Number 24.\n",
    "\n",
    "a=int(input(\"Enter the first number:\"))\n",
    "b=int(input(\"Enter the second number:\"))\n",
    "if(a>b):\n",
    "    min1=a\n",
    "else:\n",
    "    min1=b\n",
    "while(1):\n",
    "    if(min1%a==0 and min1%b==0):\n",
    "        print(\"LCM is:\",min1)\n",
    "        break\n",
    "    min1=min1+1"
   ]
  },
  {
   "cell_type": "code",
   "execution_count": 12,
   "metadata": {},
   "outputs": [
    {
     "name": "stdout",
     "output_type": "stream",
     "text": [
      "Enter 1st number: 12\n",
      "Enter 2nd number: 24\n",
      "GCD of 12 and 24 is 6\n"
     ]
    }
   ],
   "source": [
    "# question Number 25.\n",
    "\n",
    "num1 = int(input(\"Enter 1st number: \"))\n",
    "num2 = int(input(\"Enter 2nd number: \"))\n",
    "gcd = 1\n",
    "\n",
    "for i in range(1, min(num1, num2)):\n",
    "    if num1 % i == 0 and num2 % i == 0:\n",
    "        gcd = i\n",
    "print(\"GCD of\", num1, \"and\", num2, \"is\", gcd)\n"
   ]
  },
  {
   "cell_type": "code",
   "execution_count": 18,
   "metadata": {},
   "outputs": [
    {
     "name": "stdout",
     "output_type": "stream",
     "text": [
      "60\n",
      "20\n"
     ]
    }
   ],
   "source": [
    "# question Number 26.\n",
    "\n",
    "a = lambda b : b + 15\n",
    "print(a(45))\n",
    "a = lambda x, y : x * y\n",
    "print(a(5, 4))\n"
   ]
  },
  {
   "cell_type": "code",
   "execution_count": 20,
   "metadata": {},
   "outputs": [
    {
     "name": "stdout",
     "output_type": "stream",
     "text": [
      "Single the number of 15 = 15\n",
      "Double the number of 15 = 30\n"
     ]
    }
   ],
   "source": [
    "# question Number 27.\n",
    "\n",
    "def func_compute(n):\n",
    " return lambda x : x * n\n",
    "result = func_compute(1)\n",
    "print(\"Single the number of 15 =\", result(15))\n",
    "result = func_compute(2)\n",
    "print(\"Double the number of 15 =\", result(15))\n",
    "\n"
   ]
  },
  {
   "cell_type": "code",
   "execution_count": 23,
   "metadata": {},
   "outputs": [
    {
     "name": "stdout",
     "output_type": "stream",
     "text": [
      "True\n",
      "False\n"
     ]
    }
   ],
   "source": [
    "# question Number 28.\n",
    "\n",
    "is_num = lambda a: a.replace('.','',1).isdigit()\n",
    "print(is_num('26587'))\n",
    "print(is_num('-12547'))\n"
   ]
  },
  {
   "cell_type": "code",
   "execution_count": 24,
   "metadata": {},
   "outputs": [
    {
     "name": "stdout",
     "output_type": "stream",
     "text": [
      "Student id: 2110\n",
      "Student Name: Ajay Kumar\n"
     ]
    }
   ],
   "source": [
    "# question Number 29.\n",
    "\n",
    "class Student:\n",
    "    student_id = '2110'\n",
    "    student_name = 'Ajay Kumar'\n",
    "    def display():\n",
    "        print(f'Student id: {Student.student_id}\\nStudent Name: {Student.student_name}')\n",
    "Student.display()\n",
    "\n"
   ]
  },
  {
   "cell_type": "code",
   "execution_count": 37,
   "metadata": {},
   "outputs": [
    {
     "name": "stdout",
     "output_type": "stream",
     "text": [
      "Student Name: Aditya\n",
      "Marks: 93\n",
      "Student Name: Abhinav\n",
      "Marks: 95\n"
     ]
    }
   ],
   "source": [
    "# question Number 30.\n",
    "\n",
    "class Student:\n",
    "    student_name = 'Aditya'\n",
    "    marks = 93  \n",
    "print(f\"Student Name: {getattr(Student, 'student_name')}\")\n",
    "print(f\"Marks: {getattr(Student, 'marks')}\")\n",
    "setattr(Student, 'student_name', 'Abhinav')\n",
    "setattr(Student, 'marks', 95) \n",
    "print(f\"Student Name: {getattr(Student, 'student_name')}\")\n",
    "print(f\"Marks: {getattr(Student, 'marks')}\")\n"
   ]
  },
  {
   "cell_type": "code",
   "execution_count": 27,
   "metadata": {},
   "outputs": [
    {
     "name": "stdout",
     "output_type": "stream",
     "text": [
      "320\n"
     ]
    }
   ],
   "source": [
    "# question Number 31.\n",
    "\n",
    "\n",
    "class Rectangle():\n",
    "    def __init__(self, l, w):\n",
    "        self.length = l\n",
    "        self.width  = w\n",
    "\n",
    "    def rectangle_area(self):\n",
    "        return self.length*self.width\n",
    "\n",
    "newRectangle = Rectangle(16, 20)\n",
    "print(newRectangle.rectangle_area())\n"
   ]
  },
  {
   "cell_type": "code",
   "execution_count": 28,
   "metadata": {},
   "outputs": [
    {
     "name": "stdout",
     "output_type": "stream",
     "text": [
      "Length : 23\n",
      "Width : 2\n",
      "Area of Rectangle :  46\n",
      "Perimeter of Rectangle :  50\n"
     ]
    }
   ],
   "source": [
    "# question Number 32.\n",
    "\n",
    "L=int(input(\"Length : \"))\n",
    "W=int(input(\"Width : \"))\n",
    "area=L*W\n",
    "perimeter=2*(L+W)\n",
    "print(\"Area of Rectangle : \",area)\n",
    "print(\"Perimeter of Rectangle : \",perimeter)\n"
   ]
  },
  {
   "cell_type": "code",
   "execution_count": 30,
   "metadata": {},
   "outputs": [
    {
     "name": "stdout",
     "output_type": "stream",
     "text": [
      "Please Enter the Length of the Rectangle: 12\n",
      "Please Enter the Width of the Rectangle: 6\n",
      "Area of Rectangle object = 72.00\n",
      "Perimeter of Rectangle object= 36.00\n"
     ]
    }
   ],
   "source": [
    "# question Number 33.\n",
    "\n",
    "\n",
    "class Rectangle:\n",
    "              \n",
    "    def __init__(self, length, width):\n",
    "         self.length = length\n",
    "         self.width = width\n",
    "           \n",
    "    def compute_area(self):\n",
    "        return self.length * self.width\n",
    "    \n",
    "    def compute_perimeter(self):\n",
    "        return 2 * (self.length+self.width)\n",
    "\n",
    "\n",
    "\n",
    "L= float(input('Please Enter the Length of the Rectangle: '))\n",
    "W= float(input('Please Enter the Width of the Rectangle: '))\n",
    "    \n",
    "\n",
    "object1 = Rectangle(L,W)\n",
    "\n",
    "area = object1.compute_area()\n",
    "perimeter = object1.compute_perimeter()\n",
    "\n",
    "print(\"Area of Rectangle object = %.2f\" %area)\n",
    "print(\"Perimeter of Rectangle object= %.2f\" %perimeter)\n"
   ]
  },
  {
   "cell_type": "code",
   "execution_count": null,
   "metadata": {},
   "outputs": [],
   "source": []
  }
 ],
 "metadata": {
  "kernelspec": {
   "display_name": "Python 3",
   "language": "python",
   "name": "python3"
  },
  "language_info": {
   "codemirror_mode": {
    "name": "ipython",
    "version": 3
   },
   "file_extension": ".py",
   "mimetype": "text/x-python",
   "name": "python",
   "nbconvert_exporter": "python",
   "pygments_lexer": "ipython3",
   "version": "3.8.5"
  }
 },
 "nbformat": 4,
 "nbformat_minor": 4
}
